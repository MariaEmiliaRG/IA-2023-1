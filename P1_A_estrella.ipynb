{
 "cells": [
  {
   "cell_type": "markdown",
   "metadata": {},
   "source": [
    "# Proyecto 1 - Inteligencia Artificial"
   ]
  },
  {
   "cell_type": "code",
   "execution_count": 49,
   "metadata": {},
   "outputs": [],
   "source": [
    "# El mapa se encuentra dentro de un archivo JSON. \n",
    "import json"
   ]
  },
  {
   "cell_type": "code",
   "execution_count": 50,
   "metadata": {},
   "outputs": [],
   "source": [
    "#Ordenar arreglo que contiene todas las trayectorias\n",
    "def sortCosto(tray):\n",
    "  return tray[\"costo\"]"
   ]
  },
  {
   "cell_type": "code",
   "execution_count": 79,
   "metadata": {},
   "outputs": [],
   "source": [
    "def aEstrella(ciudad, ciudadFin, mapaFile):\n",
    "  ciudVisitadas = list()\n",
    "  trayectorias = list()\n",
    "  trayAux = list()\n",
    "  termina = False\n",
    "  costoFin = 0\n",
    "  costo = 0\n",
    "\n",
    "  #Cargamos el mapa a memoria principal\n",
    "  with open(mapaFile) as read_file:\n",
    "    mapa = json.load(read_file)\n",
    "\n",
    "  #Paso uno, identificar cuál es la ciudad inicial y final\n",
    "  #Revisar que si existan dentro del mapa\n",
    "  #Revisar si el nodo de donde partimos es al que queremos llegar\n",
    "\n",
    "  if ciudad not in mapa or ciudadFin not in mapa:\n",
    "    return {\"costo\":-1, \"tray\":[\"Algunas de las ciudades no se encuentra en el mapa\"]}\n",
    "\n",
    "  if ciudad == ciudadFin:\n",
    "    return {\"costo\":0, \"tray\":[ciudad]}\n",
    "\n",
    "  #Buscamos la ciudad dentro del mapa para obtener el costo y comenzar con las trayectoria\n",
    "  costo = costo + mapa[ciudad][\"dis\"]\n",
    "  trayAux.append(ciudad)\n",
    "\n",
    "  trayectorias.append({\"costo\":costo, \"tray\":trayAux})\n",
    "\n",
    "  # Obtenemos la trayectoria que tenga el menor costo\n",
    "  trayectorias.sort(key=sortCosto)\n",
    "\n",
    "  while not termina: \n",
    "    trayAux = trayectorias.pop(0)\n",
    "\n",
    "    # Revisamos cuál es la última ciudad en la lista de las ciudades que conforman la trayectoria para llegar a la ciudad final\n",
    "    ciudad = mapa[trayAux[\"tray\"][-1]]\n",
    "\n",
    "    # Agregamos a la lista de ciudades visitadas la ciudad que acabamos de expandir\n",
    "    ciudVisitadas.append(trayAux[\"tray\"][-1])\n",
    "\n",
    "    # Vamos añadiendo las nuevas trayectorias\n",
    "\n",
    "    for vecino, costo in ciudad[\"vecinos\"].items():\n",
    "      if vecino not in ciudVisitadas:\n",
    "        trayectorias.append(trayAux.copy())\n",
    "        trayectorias[-1][\"costo\"] = trayectorias[-1][\"costo\"] + mapa[vecino][\"dis\"] + costo - ciudad[\"dis\"]\n",
    "        trayectorias[-1][\"tray\"] = trayectorias[-1][\"tray\"].copy()\n",
    "        trayectorias[-1][\"tray\"].append(vecino)\n",
    "\n",
    "        if vecino == ciudadFin:\n",
    "          if costoFin == 0 or costoFin > trayectorias[-1][\"costo\"] :\n",
    "            costoFin = trayectorias[-1][\"costo\"]\n",
    "            \n",
    "    trayectorias.sort(key=sortCosto)\n",
    "\n",
    "    if trayectorias[0][\"costo\"] == costoFin:\n",
    "      termina = True\n",
    "\n",
    "  while trayectorias[0][\"tray\"][-1] != ciudadFin:\n",
    "    trayAux = trayectorias.pop(0)\n",
    "    trayectorias.append(trayAux)\n",
    "\n",
    "  return trayectorias[0]\n"
   ]
  },
  {
   "cell_type": "code",
   "execution_count": 85,
   "metadata": {},
   "outputs": [
    {
     "name": "stdout",
     "output_type": "stream",
     "text": [
      "{'costo': 198, 'tray': ['Rimnicu', 'Pitesti', 'Bucharest']}\n"
     ]
    }
   ],
   "source": [
    "print(aEstrella(\"Rimnicu\", \"Bucharest\", \"mapaRumania.json\"))\n"
   ]
  }
 ],
 "metadata": {
  "kernelspec": {
   "display_name": "Python 3.9.5 64-bit",
   "language": "python",
   "name": "python3"
  },
  "language_info": {
   "codemirror_mode": {
    "name": "ipython",
    "version": 3
   },
   "file_extension": ".py",
   "mimetype": "text/x-python",
   "name": "python",
   "nbconvert_exporter": "python",
   "pygments_lexer": "ipython3",
   "version": "3.9.5"
  },
  "orig_nbformat": 4,
  "vscode": {
   "interpreter": {
    "hash": "c8c743905bc2ee8c9ed05ae377a3a8ee6d3dfe3b64b4447ae11452d0acb97050"
   }
  }
 },
 "nbformat": 4,
 "nbformat_minor": 2
}
